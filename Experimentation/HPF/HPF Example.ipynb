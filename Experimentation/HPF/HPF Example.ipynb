{
 "cells": [
  {
   "cell_type": "code",
   "execution_count": 1,
   "metadata": {},
   "outputs": [],
   "source": [
    "import pandas as pd, numpy as np\n",
    "from hpfrec import HPF"
   ]
  },
  {
   "cell_type": "code",
   "execution_count": 2,
   "metadata": {},
   "outputs": [],
   "source": [
    "## Generating sample counts data\n",
    "nusers = 10**2\n",
    "nitems = 10**2\n",
    "nobs = 10**4\n",
    "\n",
    "np.random.seed(1)\n",
    "counts_df = pd.DataFrame({\n",
    "    'UserId' : np.random.randint(nusers, size=nobs),\n",
    "    'ItemId' : np.random.randint(nitems, size=nobs),\n",
    "    'Count' : np.random.gamma(1,1, size=nobs).astype('int32')\n",
    "    })\n",
    "counts_df = counts_df.loc[counts_df.Count > 0].reset_index(drop=True)"
   ]
  },
  {
   "cell_type": "markdown",
   "metadata": {},
   "source": [
    "## Training on full data"
   ]
  },
  {
   "cell_type": "code",
   "execution_count": 3,
   "metadata": {},
   "outputs": [
    {
     "name": "stdout",
     "output_type": "stream",
     "text": [
      "**********************************\n",
      "Hierarchical Poisson Factorization\n",
      "**********************************\n",
      "\n",
      "Number of users: 100\n",
      "Number of items: 100\n",
      "Latent factors to use: 30\n",
      "\n",
      "Initializing parameters...\n",
      "Allocating Phi matrix...\n",
      "Initializing optimization procedure...\n",
      "Iteration 10 | train llk: -6579 | train rmse: 1.1295\n",
      "Iteration 20 | train llk: -6134 | train rmse: 1.0969\n",
      "Iteration 30 | train llk: -6011 | train rmse: 1.0904\n",
      "Iteration 40 | train llk: -5952 | train rmse: 1.0901\n",
      "Iteration 50 | train llk: -5913 | train rmse: 1.0872\n",
      "Iteration 60 | train llk: -5890 | train rmse: 1.0863\n",
      "Iteration 70 | train llk: -5869 | train rmse: 1.0861\n",
      "Iteration 80 | train llk: -5848 | train rmse: 1.0859\n",
      "Iteration 90 | train llk: -5830 | train rmse: 1.0861\n",
      "Iteration 100 | train llk: -5813 | train rmse: 1.0848\n",
      "\n",
      "\n",
      "Optimization finished\n",
      "Final log-likelihood: -5813\n",
      "Final RMSE: 1.0848\n",
      "Minutes taken (optimization part): 0.1\n",
      "\n"
     ]
    },
    {
     "data": {
      "text/plain": [
       "<hpfrec.HPF at 0x7ff361dbdda0>"
      ]
     },
     "execution_count": 3,
     "metadata": {},
     "output_type": "execute_result"
    }
   ],
   "source": [
    "## Full function call\n",
    "recommender = HPF(\n",
    "    k=30, a=0.3, a_prime=0.3, b_prime=1.0,\n",
    "    c=0.3, c_prime=0.3, d_prime=1.0, ncores=-1,\n",
    "    stop_crit='train-llk', check_every=10, stop_thr=1e-3,\n",
    "    users_per_batch=None, items_per_batch=None, step_size=lambda x: 1/np.sqrt(x+2),\n",
    "    maxiter=100, reindex=False, verbose=True,\n",
    "    random_seed = None, allow_inconsistent_math=False, full_llk=False,\n",
    "    alloc_full_phi=False, keep_data=True, save_folder=None,\n",
    "    produce_dicts=True, keep_all_objs=True, sum_exp_trick=False\n",
    ")\n",
    "recommender.fit(counts_df)"
   ]
  },
  {
   "cell_type": "markdown",
   "metadata": {},
   "source": [
    "## Getting factors and recommendations for a new user "
   ]
  },
  {
   "cell_type": "code",
   "execution_count": 4,
   "metadata": {},
   "outputs": [
    {
     "data": {
      "text/plain": [
       "array([8.041132  , 0.01608876, 0.5535319 , 0.02366297, 2.0545833 ,\n",
       "       0.05637857, 0.02476999, 0.01712107, 0.02405872, 0.01954543,\n",
       "       9.974459  , 0.02056715, 0.02559502, 0.01939566, 0.01619562,\n",
       "       0.01949963, 0.02690121, 3.9166534 , 0.9496915 , 0.02275413,\n",
       "       0.02686422, 0.02180668, 0.02004912, 0.01471848, 0.07501479,\n",
       "       0.01603007, 1.9092509 , 0.02013228, 0.01533022, 0.02449144],\n",
       "      dtype=float32)"
      ]
     },
     "execution_count": 4,
     "metadata": {},
     "output_type": "execute_result"
    }
   ],
   "source": [
    "nobs_new = 20\n",
    "np.random.seed(2)\n",
    "counts_df_new = pd.DataFrame({\n",
    "\t'ItemId' : np.random.choice(np.arange(nitems), size=nobs_new, replace=False),\n",
    "\t'Count' : np.random.gamma(1,1, size=nobs_new).astype('int32')\n",
    "\t})\n",
    "counts_df_new = counts_df_new.loc[counts_df_new.Count > 0].reset_index(drop=True)\n",
    "recommender.predict_factors(counts_df_new)"
   ]
  },
  {
   "cell_type": "code",
   "execution_count": 6,
   "metadata": {},
   "outputs": [
    {
     "data": {
      "text/plain": [
       "array([50, 24, 63, 78, 22,  9, 43, 68, 12, 87])"
      ]
     },
     "execution_count": 6,
     "metadata": {},
     "output_type": "execute_result"
    }
   ],
   "source": [
    "recommender.add_user(user_id=nusers+1, counts_df=counts_df_new)\n",
    "recommender.topN(user=nusers, n=10, exclude_seen=True)"
   ]
  },
  {
   "cell_type": "markdown",
   "metadata": {},
   "source": [
    "### Pickle'ing the object"
   ]
  },
  {
   "cell_type": "code",
   "execution_count": 8,
   "metadata": {},
   "outputs": [],
   "source": [
    "import pickle\n",
    "with open('recommender.pkl', 'wb') as fp:\n",
    "    recommender.step_size = None\n",
    "    pickle.dump(recommender, fp)"
   ]
  },
  {
   "cell_type": "code",
   "execution_count": 9,
   "metadata": {},
   "outputs": [],
   "source": [
    "rec = None\n",
    "with open('recommender.pkl', 'rb') as fp:\n",
    "    rec = pickle.load(fp)"
   ]
  },
  {
   "cell_type": "code",
   "execution_count": 19,
   "metadata": {},
   "outputs": [
    {
     "data": {
      "text/plain": [
       "array([50, 24, 63, 78, 22,  9, 43, 68, 12, 87])"
      ]
     },
     "execution_count": 19,
     "metadata": {},
     "output_type": "execute_result"
    }
   ],
   "source": [
    "rec.add_user(user_id=nusers+2, counts_df=counts_df_new)\n",
    "rec.topN(user=nusers+1, n=10, exclude_seen=True)"
   ]
  },
  {
   "cell_type": "markdown",
   "metadata": {},
   "source": [
    "### Working with partial data"
   ]
  },
  {
   "cell_type": "code",
   "execution_count": 4,
   "metadata": {},
   "outputs": [
    {
     "data": {
      "text/plain": [
       "<hpfrec.HPF at 0x7fe8fcf05748>"
      ]
     },
     "execution_count": 4,
     "metadata": {},
     "output_type": "execute_result"
    }
   ],
   "source": [
    "recommender = HPF(reindex=False, keep_data=False)\n",
    "users_batch1 = np.unique(np.random.randint(10**2, size=20))\n",
    "users_batch2 = np.unique(np.random.randint(10**2, size=20))\n",
    "users_batch3 = np.unique(np.random.randint(10**2, size=20))\n",
    "recommender.partial_fit(counts_df.loc[counts_df.UserId.isin(users_batch1)], nusers=10**2, nitems=10**2)\n",
    "recommender.partial_fit(counts_df.loc[counts_df.UserId.isin(users_batch2)])\n",
    "recommender.partial_fit(counts_df.loc[counts_df.UserId.isin(users_batch3)])"
   ]
  }
 ],
 "metadata": {
  "kernelspec": {
   "display_name": "Python 3",
   "language": "python",
   "name": "python3"
  },
  "language_info": {
   "codemirror_mode": {
    "name": "ipython",
    "version": 3
   },
   "file_extension": ".py",
   "mimetype": "text/x-python",
   "name": "python",
   "nbconvert_exporter": "python",
   "pygments_lexer": "ipython3",
   "version": "3.6.4"
  }
 },
 "nbformat": 4,
 "nbformat_minor": 2
}
