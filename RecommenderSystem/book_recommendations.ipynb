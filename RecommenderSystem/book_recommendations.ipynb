{
 "cells": [
  {
   "cell_type": "code",
   "execution_count": 1,
   "metadata": {
    "collapsed": true
   },
   "outputs": [],
   "source": [
    "import os\n",
    "import sys\n",
    "import numpy as np\n",
    "import pandas as pd\n",
    "import scipy\n",
    "from sklearn.feature_extraction.text import TfidfVectorizer, CountVectorizer\n",
    "from sklearn.metrics.pairwise import linear_kernel, cosine_similarity\n",
    "from sklearn.decomposition import TruncatedSVD\n",
    "\n",
    "# Custom libraries\n",
    "sys.path.append('../Util')\n",
    "from loader import get_books, get_book_dataframe, get_book_features"
   ]
  },
  {
   "cell_type": "code",
   "execution_count": 2,
   "metadata": {
    "collapsed": true
   },
   "outputs": [],
   "source": [
    "# Set this to where you save and load all data - RELATIVE TO INSIDE UTIL FOLDER\n",
    "data_path = '../goodbooks-10k/'"
   ]
  },
  {
   "cell_type": "code",
   "execution_count": 3,
   "metadata": {
    "collapsed": true
   },
   "outputs": [],
   "source": [
    "# title of book to get recs for\n",
    "title = 'The Fellowship of the Ring (The Lord of the Rings, #1)'"
   ]
  },
  {
   "cell_type": "code",
   "execution_count": 17,
   "metadata": {
    "collapsed": true
   },
   "outputs": [],
   "source": [
    "# Function that takes in book feature similarity matrices as input and outputs most similar book\n",
    "def get_recommendations(df, indices, title, similarities, weights):\n",
    "    \n",
    "    # Get the index of the book that matches the title\n",
    "    idx = indices[title]\n",
    "    idx -= 1\n",
    "    \n",
    "    # Get the total number of books\n",
    "    num_books = len(similarities[0])\n",
    "\n",
    "    # Get the pairwsie similarity scores of all books with that book\n",
    "    similarity_scores = []\n",
    "    for similarity in similarities:\n",
    "        similarity_scores.append(list(enumerate(similarity[idx])))\n",
    "    \n",
    "    # Sum and average the similarity scores of the three feature sets to get true similarity\n",
    "    sim_scores = []\n",
    "    for i in range(num_books):  \n",
    "        book_id = similarity_scores[0][i][0]\n",
    "        \n",
    "        score = 0\n",
    "        for j in range(len(weights)):\n",
    "            score += (similarity_scores[j][i][1] * weights[j])\n",
    "            \n",
    "        sim_scores.append((book_id, score))\n",
    "        \n",
    "    # Sort the books based on the highest similarity scores first\n",
    "    sim_scores = sorted(sim_scores, key=lambda x: x[1], reverse=True)\n",
    "\n",
    "    # Get the scores of the N most similar books\n",
    "    N = 10\n",
    "    sim_scores = sim_scores[0:N]\n",
    "\n",
    "    # Get the book indices\n",
    "    book_indices = [i[0] for i in sim_scores]\n",
    "\n",
    "    # Return the top 10 most similar books\n",
    "    return df['title'].iloc[book_indices]"
   ]
  },
  {
   "cell_type": "code",
   "execution_count": 7,
   "metadata": {},
   "outputs": [
    {
     "name": "stdout",
     "output_type": "stream",
     "text": [
      "found books_dataframe in file...\n"
     ]
    }
   ],
   "source": [
    "# Get dataframe from books\n",
    "books = get_book_dataframe(data_path)"
   ]
  },
  {
   "cell_type": "code",
   "execution_count": 8,
   "metadata": {
    "collapsed": true
   },
   "outputs": [],
   "source": [
    "#Construct a reverse map of indices and book titles\n",
    "indices = pd.Series(books.index, index=books['title']).drop_duplicates()"
   ]
  },
  {
   "cell_type": "code",
   "execution_count": 9,
   "metadata": {},
   "outputs": [
    {
     "name": "stdout",
     "output_type": "stream",
     "text": [
      "title\n",
      "The Hunger Games (The Hunger Games, #1)                                                          1\n",
      "Harry Potter and the Sorcerer's Stone (Harry Potter, #1)                                         2\n",
      "Twilight (Twilight, #1)                                                                          3\n",
      "To Kill a Mockingbird                                                                            4\n",
      "The Great Gatsby                                                                                 5\n",
      "                                                                                             ...  \n",
      "Bayou Moon (The Edge, #2)                                                                     9996\n",
      "Means of Ascent (The Years of Lyndon Johnson, #2)                                             9997\n",
      "The Mauritius Command                                                                         9998\n",
      "Cinderella Ate My Daughter: Dispatches from the Frontlines of the New Girlie-Girl Culture     9999\n",
      "The First World War                                                                          10000\n",
      "Name: id, Length: 10000, dtype: int32\n"
     ]
    }
   ],
   "source": [
    "print(indices)"
   ]
  },
  {
   "cell_type": "code",
   "execution_count": 10,
   "metadata": {},
   "outputs": [
    {
     "name": "stdout",
     "output_type": "stream",
     "text": [
      "feature_matrix exists in file...\n"
     ]
    },
    {
     "data": {
      "text/plain": [
       "(10000, 82203)"
      ]
     },
     "execution_count": 10,
     "metadata": {},
     "output_type": "execute_result"
    }
   ],
   "source": [
    "# produce feature matrix\n",
    "feature_matrix = get_book_features(books)\n",
    "feature_matrix.shape"
   ]
  },
  {
   "cell_type": "code",
   "execution_count": 11,
   "metadata": {},
   "outputs": [],
   "source": [
    "# Compute the cosine similarity matrix for feature matrix\n",
    "cosine_sim_features = cosine_similarity(feature_matrix)"
   ]
  },
  {
   "cell_type": "code",
   "execution_count": 18,
   "metadata": {},
   "outputs": [],
   "source": [
    "# Get recs using the combined feature matrix\n",
    "similarities_features = [cosine_sim_features]\n",
    "weights_features = [1]\n",
    "recs_features = get_recommendations(books, indices, title, similarities_features, weights_features)\n",
    "recs_features.to_csv('recs_features.csv', index=False)"
   ]
  },
  {
   "cell_type": "code",
   "execution_count": null,
   "metadata": {
    "collapsed": true
   },
   "outputs": [],
   "source": [
    "'''\n",
    "\n",
    "Load in Item Matrix\n",
    "\n",
    "'''"
   ]
  },
  {
   "cell_type": "code",
   "execution_count": 19,
   "metadata": {},
   "outputs": [
    {
     "data": {
      "text/plain": [
       "(10000, 2000)"
      ]
     },
     "execution_count": 19,
     "metadata": {},
     "output_type": "execute_result"
    }
   ],
   "source": [
    "# Load in item_matrix (concepts and features) and test recs\n",
    "filename = '../.tmp/item_matrix.npy'\n",
    "item_matrix = np.load(filename)\n",
    "item_matrix.shape"
   ]
  },
  {
   "cell_type": "code",
   "execution_count": 20,
   "metadata": {
    "collapsed": true
   },
   "outputs": [],
   "source": [
    "# Compute the cosine similarity matrix for the item matrix\n",
    "cosine_sim_item_matrix = cosine_similarity(item_matrix)"
   ]
  },
  {
   "cell_type": "code",
   "execution_count": 21,
   "metadata": {},
   "outputs": [],
   "source": [
    "# Get recs using the item matrix (concepts and features)\n",
    "similarities_item_matrix = [cosine_sim_item_matrix]\n",
    "weights_item_matrix = [1]\n",
    "recs_item_matrix = get_recommendations(books, indices, title, similarities_item_matrix, weights_item_matrix)\n",
    "recs_item_matrix.to_csv('recs_item_matrix.csv', index=False)"
   ]
  },
  {
   "cell_type": "code",
   "execution_count": 13,
   "metadata": {},
   "outputs": [
    {
     "data": {
      "text/plain": [
       "(10000, 5)"
      ]
     },
     "execution_count": 13,
     "metadata": {},
     "output_type": "execute_result"
    }
   ],
   "source": [
    "# Test just the matrix derived from a single matrix\n",
    "item_matrix_test = item_matrix[:,5:10]\n",
    "item_matrix_test.shape"
   ]
  },
  {
   "cell_type": "code",
   "execution_count": 14,
   "metadata": {
    "collapsed": true
   },
   "outputs": [],
   "source": [
    "# Compute the cosine similarity matrix for the collab filtering matrix\n",
    "cosine_sim_test = cosine_similarity(item_matrix_test)"
   ]
  },
  {
   "cell_type": "code",
   "execution_count": 15,
   "metadata": {},
   "outputs": [
    {
     "data": {
      "text/plain": [
       "id\n",
       "19      The Fellowship of the Ring (The Lord of the Ri...\n",
       "6527                              Saga, Vol. 6 (Saga, #6)\n",
       "3846            Between the Lines (Between the Lines, #1)\n",
       "536                             Red Queen (Red Queen, #1)\n",
       "1018                 Royal Assassin (Farseer Trilogy, #2)\n",
       "9512                                           شكلها باظت\n",
       "3663                  Squire (Protector of the Small, #3)\n",
       "4632                     The Indwelling (Left Behind, #7)\n",
       "9119    When Christ and His Saints Slept  (Henry II & ...\n",
       "5335                              The Palace of Illusions\n",
       "1333                  Benjamin Franklin: An American Life\n",
       "2096            Polar Bear, Polar Bear, What Do You Hear?\n",
       "8352                               The Devil All the Time\n",
       "7212                                  Captains Courageous\n",
       "3343                              Someday, Someday, Maybe\n",
       "3012                                                Maude\n",
       "763                                        The Bluest Eye\n",
       "1799                            Demonglass (Hex Hall, #2)\n",
       "4192          Blood And Gold (The Vampire Chronicles, #8)\n",
       "4373                                 Crashed (Driven, #3)\n",
       "Name: title, dtype: object"
      ]
     },
     "execution_count": 15,
     "metadata": {},
     "output_type": "execute_result"
    }
   ],
   "source": [
    "similarities_test = [cosine_sim_test]\n",
    "weights_test = [1]\n",
    "recs_test = get_recommendations(books, indices, title, similarities_test, weights_test)\n",
    "recs_test"
   ]
  },
  {
   "cell_type": "code",
   "execution_count": null,
   "metadata": {
    "collapsed": true
   },
   "outputs": [],
   "source": []
  }
 ],
 "metadata": {
  "kernelspec": {
   "display_name": "Python 3",
   "language": "python",
   "name": "python3"
  },
  "language_info": {
   "codemirror_mode": {
    "name": "ipython",
    "version": 3
   },
   "file_extension": ".py",
   "mimetype": "text/x-python",
   "name": "python",
   "nbconvert_exporter": "python",
   "pygments_lexer": "ipython3",
   "version": "3.12.6"
  }
 },
 "nbformat": 4,
 "nbformat_minor": 2
}
