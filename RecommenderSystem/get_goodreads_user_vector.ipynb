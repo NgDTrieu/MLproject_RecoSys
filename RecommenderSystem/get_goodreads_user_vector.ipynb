{
 "cells": [
  {
   "cell_type": "code",
   "execution_count": 1,
   "metadata": {
    "collapsed": true
   },
   "outputs": [
    {
     "ename": "ModuleNotFoundError",
     "evalue": "No module named 'secret'",
     "output_type": "error",
     "traceback": [
      "\u001b[31m---------------------------------------------------------------------------\u001b[39m",
      "\u001b[31mModuleNotFoundError\u001b[39m                       Traceback (most recent call last)",
      "\u001b[36mCell\u001b[39m\u001b[36m \u001b[39m\u001b[32mIn[1]\u001b[39m\u001b[32m, line 21\u001b[39m\n\u001b[32m     19\u001b[39m \u001b[38;5;28;01mfrom\u001b[39;00m \u001b[34;01mjoiner\u001b[39;00m \u001b[38;5;28;01mimport\u001b[39;00m get_ratings, get_joint\n\u001b[32m     20\u001b[39m \u001b[38;5;28;01mfrom\u001b[39;00m \u001b[34;01mreduction\u001b[39;00m \u001b[38;5;28;01mimport\u001b[39;00m reduce_matrix, get_sparse\n\u001b[32m---> \u001b[39m\u001b[32m21\u001b[39m \u001b[38;5;28;01mimport\u001b[39;00m \u001b[34;01msecret\u001b[39;00m \u001b[38;5;66;03m# need to make this and add goodreads_api key\u001b[39;00m\n",
      "\u001b[31mModuleNotFoundError\u001b[39m: No module named 'secret'"
     ]
    }
   ],
   "source": [
    "import requests\n",
    "from xml.etree import ElementTree\n",
    "import os\n",
    "import sys\n",
    "import numpy as np\n",
    "import pandas as pd\n",
    "import scipy\n",
    "from sklearn.feature_extraction.text import TfidfVectorizer, CountVectorizer\n",
    "from sklearn.metrics.pairwise import linear_kernel, cosine_similarity\n",
    "from sklearn.decomposition import TruncatedSVD\n",
    "from surprise import Reader, Dataset, SVD, dump\n",
    "from surprise.model_selection import cross_validate  # thay cho evaluate\n",
    "import surprise.accuracy as accuracy                 # giữ accuracy\n",
    "from collections import defaultdict\n",
    "\n",
    "# Custom libraries\n",
    "sys.path.append('../Util')\n",
    "from loader import get_books, get_book_dataframe, get_book_features, get_mapper\n",
    "from joiner import get_ratings, get_joint\n",
    "from reduction import reduce_matrix, get_sparse\n",
    "import secret # need to make this and add goodreads_api key"
   ]
  },
  {
   "cell_type": "code",
   "execution_count": 16,
   "metadata": {},
   "outputs": [],
   "source": [
    "def get_id_from_username(username, api_key):\n",
    "    response = requests.get('https://www.goodreads.com/user/show/?key='+api_key+'&username='+username+'&format=xml')\n",
    "    tree = ElementTree.fromstring(response.content)\n",
    "    try:\n",
    "        user_id = tree.find('user').find('id').text\n",
    "        return user_id\n",
    "    except:\n",
    "        raise ValueError('Invalid Goodreads username, not id returned')\n",
    "        return None"
   ]
  },
  {
   "cell_type": "code",
   "execution_count": null,
   "metadata": {
    "collapsed": true
   },
   "outputs": [],
   "source": [
    "# Set this to where you save and load all data\n",
    "data_path = '../goodbooks-10k/'"
   ]
  },
  {
   "cell_type": "code",
   "execution_count": 13,
   "metadata": {},
   "outputs": [
    {
     "name": "stdout",
     "output_type": "stream",
     "text": [
      "found books_dataframe in file...\n"
     ]
    }
   ],
   "source": [
    "# Get dataframe from books\n",
    "books = get_book_dataframe(data_path)"
   ]
  },
  {
   "cell_type": "code",
   "execution_count": 14,
   "metadata": {
    "collapsed": true
   },
   "outputs": [],
   "source": [
    "mapper = get_mapper(data_path + 'books.csv')"
   ]
  },
  {
   "cell_type": "code",
   "execution_count": 15,
   "metadata": {
    "collapsed": true
   },
   "outputs": [],
   "source": [
    "# make an array for myself\n",
    "q = np.zeros((10000), dtype = np.int)"
   ]
  },
  {
   "cell_type": "code",
   "execution_count": 20,
   "metadata": {},
   "outputs": [
    {
     "ename": "AttributeError",
     "evalue": "module 'secret' has no attribute 'USERNAME'",
     "output_type": "error",
     "traceback": [
      "\u001b[1;31m---------------------------------------------------------------------------\u001b[0m",
      "\u001b[1;31mAttributeError\u001b[0m                            Traceback (most recent call last)",
      "\u001b[1;32m<ipython-input-20-aa939d525d36>\u001b[0m in \u001b[0;36m<module>\u001b[1;34m()\u001b[0m\n\u001b[1;32m----> 1\u001b[1;33m \u001b[0musername\u001b[0m \u001b[1;33m=\u001b[0m \u001b[0msecret\u001b[0m\u001b[1;33m.\u001b[0m\u001b[0mUSERNAME\u001b[0m\u001b[1;33m\u001b[0m\u001b[0m\n\u001b[0m\u001b[0;32m      2\u001b[0m \u001b[0mapi_key\u001b[0m \u001b[1;33m=\u001b[0m \u001b[0msecret\u001b[0m\u001b[1;33m.\u001b[0m\u001b[0mAPI_KEY\u001b[0m\u001b[1;33m\u001b[0m\u001b[0m\n",
      "\u001b[1;31mAttributeError\u001b[0m: module 'secret' has no attribute 'USERNAME'"
     ]
    }
   ],
   "source": [
    "username = secret.USERNAME\n",
    "api_key = secret.API_KEY"
   ]
  },
  {
   "cell_type": "code",
   "execution_count": 18,
   "metadata": {},
   "outputs": [
    {
     "data": {
      "text/plain": [
       "'26809953'"
      ]
     },
     "execution_count": 18,
     "metadata": {},
     "output_type": "execute_result"
    }
   ],
   "source": [
    "user_id = get_id_from_username(username, api_key)\n",
    "user_id"
   ]
  },
  {
   "cell_type": "code",
   "execution_count": 18,
   "metadata": {},
   "outputs": [
    {
     "name": "stdout",
     "output_type": "stream",
     "text": [
      "200\n",
      "62\n",
      "0\n"
     ]
    }
   ],
   "source": [
    "page = 1\n",
    "while True:\n",
    "    response = requests.get('https://www.goodreads.com/review/list/?v=2&id='+user_id+'&shelf=read&format=xml&key='+api_key+'&per_page=200&page=' + str(page))\n",
    "    tree = ElementTree.fromstring(response.content)\n",
    "    reviews = tree.find('reviews')\n",
    "    for review in reviews:\n",
    "        goodreads_book_id = str(review.find('book').find('id').text)\n",
    "        if goodreads_book_id in mapper:\n",
    "            book_id = int(mapper[goodreads_book_id])\n",
    "            rating = int(review.find('rating').text)\n",
    "            q[book_id-1] = float(rating)\n",
    "    page += 1\n",
    "    \n",
    "    print(len(reviews))\n",
    "    if len(reviews) < 1:\n",
    "        break"
   ]
  },
  {
   "cell_type": "code",
   "execution_count": 120,
   "metadata": {
    "collapsed": true
   },
   "outputs": [],
   "source": [
    "np.save('../.tmp/user_vector', q)"
   ]
  },
  {
   "cell_type": "code",
   "execution_count": 121,
   "metadata": {},
   "outputs": [
    {
     "name": "stdout",
     "output_type": "stream",
     "text": [
      "5 --> The Hunger Games (The Hunger Games, #1)\n",
      "5 --> Harry Potter and the Sorcerer's Stone (Harry Potter, #1)\n",
      "4 --> To Kill a Mockingbird\n",
      "4 --> The Great Gatsby\n",
      "4 --> The Fault in Our Stars\n",
      "4 --> The Hobbit\n",
      "5 --> The Catcher in the Rye\n",
      "3 --> Pride and Prejudice\n",
      "5 --> The Kite Runner\n",
      "4 --> Divergent (Divergent, #1)\n",
      "3 --> 1984\n",
      "4 --> Animal Farm\n",
      "3 --> The Diary of a Young Girl\n",
      "4 --> The Girl with the Dragon Tattoo (Millennium, #1)\n",
      "4 --> Catching Fire (The Hunger Games, #2)\n",
      "3 --> Harry Potter and the Prisoner of Azkaban (Harry Potter, #3)\n",
      "5 --> The Fellowship of the Ring (The Lord of the Rings, #1)\n",
      "3 --> Mockingjay (The Hunger Games, #3)\n",
      "3 --> Harry Potter and the Order of the Phoenix (Harry Potter, #5)\n",
      "4 --> Harry Potter and the Chamber of Secrets (Harry Potter, #2)\n",
      "3 --> Harry Potter and the Goblet of Fire (Harry Potter, #4)\n",
      "4 --> Harry Potter and the Deathly Hallows (Harry Potter, #7)\n",
      "3 --> Harry Potter and the Half-Blood Prince (Harry Potter, #6)\n",
      "3 --> Lord of the Flies\n",
      "4 --> Romeo and Juliet\n",
      "5 --> Of Mice and Men\n",
      "4 --> Fifty Shades of Grey (Fifty Shades, #1)\n",
      "4 --> The Alchemist\n",
      "4 --> The Giver (The Giver, #1)\n",
      "4 --> The Lion, the Witch, and the Wardrobe (Chronicles of Narnia, #1)\n",
      "5 --> A Game of Thrones (A Song of Ice and Fire, #1)\n",
      "5 --> The Lightning Thief (Percy Jackson and the Olympians, #1)\n",
      "3 --> Jane Eyre\n",
      "5 --> The Book Thief\n",
      "5 --> Eragon (The Inheritance Cycle, #1)\n",
      "4 --> The Hitchhiker's Guide to the Galaxy (Hitchhiker's Guide to the Galaxy, #1)\n",
      "3 --> Brave New World\n",
      "3 --> The Adventures of Huckleberry Finn\n",
      "4 --> The Golden Compass (His Dark Materials, #1)\n",
      "4 --> A Thousand Splendid Suns\n",
      "5 --> The Perks of Being a Wallflower\n",
      "3 --> Insurgent (Divergent, #2)\n",
      "4 --> Ender's Game (Ender's Saga, #1)\n",
      "4 --> Frankenstein\n",
      "4 --> Looking for Alaska\n",
      "4 --> Holes (Holes, #1)\n",
      "5 --> The Glass Castle\n",
      "3 --> Into the Wild\n",
      "3 --> A Tale of Two Cities\n",
      "3 --> Jurassic Park (Jurassic Park, #1)\n",
      "3 --> Night (The Night Trilogy #1)\n",
      "4 --> The Outsiders\n",
      "4 --> Freakonomics: A Rogue Economist Explores the Hidden Side of Everything (Freakonomics, #1)\n",
      "3 --> Dracula\n",
      "4 --> The Girl Who Played with Fire (Millennium, #2)\n",
      "4 --> The Road\n",
      "4 --> A Clash of Kings  (A Song of Ice and Fire, #2)\n",
      "2 --> Catch-22 (Catch-22, #1)\n",
      "4 --> Middlesex\n",
      "3 --> The Adventures of Tom Sawyer\n",
      "2 --> Lolita\n",
      "4 --> Dune (Dune Chronicles #1)\n",
      "4 --> The Tipping Point: How Little Things Can Make a Big Difference\n",
      "5 --> Steve Jobs\n",
      "5 --> One Flew Over the Cuckoo's Nest\n",
      "4 --> The Old Man and the Sea\n",
      "5 --> A Storm of Swords (A Song of Ice and Fire, #3)\n",
      "2 --> The Scarlet Letter\n",
      "4 --> The Girl Who Kicked the Hornet's Nest (Millennium, #3)\n",
      "5 --> Unbroken: A World War II Story of Survival, Resilience, and Redemption\n",
      "5 --> The Two Towers (The Lord of the Rings, #2)\n",
      "4 --> Charlie and the Chocolate Factory (Charlie Bucket, #1)\n",
      "4 --> The Battle of the Labyrinth (Percy Jackson and the Olympians, #4)\n",
      "4 --> Great Expectations\n",
      "5 --> The Return of the King (The Lord of the Rings, #3)\n",
      "3 --> The Stranger\n",
      "4 --> Eleanor & Park\n",
      "3 --> A Feast for Crows (A Song of Ice and Fire, #4)\n",
      "4 --> Anna Karenina\n",
      "5 --> A Clockwork Orange\n",
      "5 --> Siddhartha\n",
      "5 --> In Cold Blood\n",
      "4 --> A Dance with Dragons (A Song of Ice and Fire, #5)\n",
      "5 --> The Lord of the Rings (The Lord of the Rings, #1-3)\n",
      "4 --> Watchmen\n",
      "4 --> Outliers: The Story of Success\n",
      "5 --> Fight Club\n",
      "2 --> The Color Purple\n",
      "4 --> Blink: The Power of Thinking Without Thinking\n",
      "2 --> The Metamorphosis\n",
      "5 --> Ready Player One\n",
      "4 --> The Chronicles of Narnia (Chronicles of Narnia, #1-7)\n",
      "4 --> Artemis Fowl (Artemis Fowl, #1)\n",
      "5 --> East of Eden\n",
      "2 --> The Gunslinger (The Dark Tower, #1)\n",
      "4 --> Into Thin Air: A Personal Account of the Mount Everest Disaster\n",
      "3 --> World War Z: An Oral History of the Zombie War\n",
      "3 --> The 7 Habits of Highly Effective People: Powerful Lessons in Personal Change\n",
      "5 --> Atlas Shrugged\n",
      "4 --> How to Win Friends and Influence People\n",
      "3 --> A Tree Grows in Brooklyn\n",
      "5 --> The Fountainhead\n",
      "4 --> The Hunt for Red October (Jack Ryan Universe, #4)\n",
      "4 --> Watership Down (Watership Down, #1)\n",
      "4 --> The Son of Neptune (The Heroes of Olympus, #2)\n",
      "2 --> Cat's Cradle\n",
      "4 --> Inkheart (Inkworld, #1)\n",
      "5 --> The Eye of the World (Wheel of Time, #1)\n",
      "4 --> The Ultimate Hitchhiker's Guide to the Galaxy\n",
      "4 --> The Bad Beginning (A Series of Unfortunate Events, #1)\n",
      "5 --> The Subtle Knife (His Dark Materials, #2)\n",
      "5 --> The BFG\n",
      "5 --> A Short History of Nearly Everything\n",
      "4 --> Hatchet (Brian's Saga, #1)\n",
      "2 --> Diary of a Wimpy Kid (Diary of a Wimpy Kid, #1)\n",
      "3 --> For Whom the Bell Tolls\n",
      "5 --> A Farewell to Arms\n",
      "4 --> The Art of War\n",
      "3 --> The Mark of Athena (The Heroes of Olympus, #3)\n",
      "4 --> A Brief History of Time\n",
      "2 --> Their Eyes Were Watching God\n",
      "5 --> Man's Search for Meaning\n",
      "3 --> The Prince\n",
      "4 --> The Amber Spyglass (His Dark Materials, #3)\n",
      "3 --> Choke\n",
      "4 --> The Brothers Karamazov\n",
      "2 --> The Andromeda Strain\n",
      "3 --> Maus I: A Survivor's Tale: My Father Bleeds History (Maus, #1)\n",
      "3 --> Nickel and Dimed: On (Not) Getting By in America\n",
      "4 --> The Great Hunt (Wheel of Time, #2)\n",
      "4 --> The Dragon Reborn (Wheel of Time, #3)\n",
      "4 --> The War of the Worlds\n",
      "4 --> Hamlet: Screenplay, Introduction And Film Diary\n",
      "2 --> A Separate Peace\n",
      "3 --> The Boys in the Boat: Nine Americans and Their Epic Quest for Gold at the 1936 Berlin Olympics\n",
      "5 --> The Silmarillion (Middle-Earth Universe)\n",
      "4 --> Murder on the Orient Express (Hercule Poirot, #10)\n",
      "4 --> Twenty Thousand Leagues Under the Sea\n",
      "4 --> Around the World in Eighty Days (Extraordinary Voyages, #11)\n",
      "1 --> Invisible Man\n",
      "4 --> A Long Way Gone: Memoirs of a Boy Soldier\n",
      "4 --> No Country for Old Men\n",
      "3 --> Every Day (Every Day, #1)\n",
      "3 --> When Breath Becomes Air\n",
      "4 --> Gathering Blue (The Giver, #2)\n",
      "3 --> David and Goliath: Underdogs, Misfits, and the Art of Battling Giants\n",
      "5 --> The Selfish Gene\n",
      "4 --> Anthem\n",
      "4 --> SuperFreakonomics: Global Cooling, Patriotic Prostitutes And Why Suicide Bombers Should Buy Life Insurance\n",
      "4 --> Dune Messiah (Dune Chronicles #2)\n",
      "2 --> Blood Meridian, or the Evening Redness in the West\n",
      "4 --> The Girl in the Spider's Web (Millennium, #4)\n",
      "4 --> The Prince and the Pauper\n",
      "4 --> Killing Lincoln: The Shocking Assassination that Changed America Forever\n",
      "3 --> The Ruins of Gorlan (Ranger's Apprentice, #1)\n",
      "4 --> Messenger (The Giver, #3)\n",
      "4 --> Lone Survivor: The Eyewitness Account of Operation Redwing and the Lost Heroes of SEAL Team 10\n",
      "4 --> Redwall (Redwall, #1)\n",
      "4 --> Hillbilly Elegy: A Memoir of a Family and Culture in Crisis\n",
      "3 --> The Electric Kool-Aid Acid Test\n",
      "4 --> A Connecticut Yankee in King Arthur's Court\n",
      "4 --> Rant\n",
      "3 --> The Fall of the House of Usher and Other Tales \n",
      "4 --> Shiloh (Shiloh, #1)\n",
      "4 --> Mossflower (Redwall, #2)\n",
      "2 --> Anne Frank Remembered: The Story of the Woman Who Helped to Hide the Frank Family\n",
      "4 --> Son (The Giver, #4)\n",
      "4 --> Charlie and the Great Glass Elevator (Charlie Bucket, #2)\n",
      "4 --> The Thief Lord\n",
      "3 --> The Importance of Being Earnest and Other Plays\n",
      "4 --> Sapiens: A Brief History of Humankind\n",
      "3 --> Killing Kennedy: The End of Camelot\n",
      "4 --> The Last Wish (The Witcher, #1)\n",
      "4 --> The Children of Húrin\n",
      "3 --> No Easy Day: The Firsthand Account of the Mission That Killed Osama Bin Laden\n",
      "3 --> Salt: A World History\n",
      "4 --> Rainbow Six (Jack Ryan Universe, #10)\n",
      "1 --> Autobiography of a Yogi\n",
      "4 --> Theodore Rex\n",
      "5 --> The River of Doubt: Theodore Roosevelt's Darkest Journey\n",
      "5 --> The Mysterious Island (Extraordinary Voyages, #12)\n",
      "5 --> The Rise of Theodore Roosevelt\n",
      "4 --> The Innovator's Dilemma: The Revolutionary Book that Will Change the Way You Do Business (Collins Business Essentials)\n",
      "3 --> Shakespeare: The World as Stage\n",
      "3 --> Pygmy\n",
      "5 --> We the Living\n",
      "4 --> The Adventures of Captain Underpants (Captain Underpants, #1)\n",
      "2 --> Bless Me, Ultima\n",
      "4 --> The Innovators: How a Group of  Hackers, Geniuses and Geeks Created the Digital Revolution\n",
      "4 --> Captain Underpants and the Attack of the Talking Toilets (Captain Underpants, #2)\n",
      "5 --> Shoe Dog: A Memoir by the Creator of NIKE\n",
      "4 --> The Design of Everyday Things\n",
      "5 --> Talent is Overrated: What Really Separates World-Class Performers from Everybody Else\n",
      "5 --> From Here to Eternity\n",
      "4 --> The Road to Character\n",
      "4 --> The One Thing: The Surprisingly Simple Truth Behind Extraordinary Results\n",
      "4 --> Colonel Roosevelt\n",
      "3 --> Killing Reagan: The Violent Assault That Changed a Presidency\n",
      "5 --> There are No Children Here: The Story of Two Boys Growing Up in the Other America\n",
      "4 --> The Pragmatic Programmer: From Journeyman to Master\n",
      "5 --> Economics in One Lesson: The Shortest & Surest Way to Understand Basic Economics\n",
      "5 --> Grit: Passion, Perseverance, and the Science of Success\n"
     ]
    }
   ],
   "source": [
    "for i in range(len(q)):\n",
    "    if q[i] != 0:\n",
    "        title = books.iloc[i]['title']\n",
    "        print(\"%s --> %s\" % (q[i], title))"
   ]
  },
  {
   "cell_type": "markdown",
   "metadata": {},
   "source": [
    "Đoạn code thay thế do không thể lấy dữ liệu từ api"
   ]
  },
  {
   "cell_type": "code",
   "execution_count": 2,
   "metadata": {},
   "outputs": [],
   "source": [
    "import pandas as pd\n",
    "import numpy as np\n"
   ]
  },
  {
   "cell_type": "code",
   "execution_count": 3,
   "metadata": {},
   "outputs": [],
   "source": [
    "# Đọc dữ liệu từ ratings.csv\n",
    "ratings = pd.read_csv('../goodbooks-10k/ratings.csv')\n"
   ]
  },
  {
   "cell_type": "code",
   "execution_count": 5,
   "metadata": {},
   "outputs": [],
   "source": [
    "# Khởi tạo vector người dùng\n",
    "q = np.zeros((10000), dtype=float)"
   ]
  },
  {
   "cell_type": "code",
   "execution_count": 6,
   "metadata": {},
   "outputs": [],
   "source": [
    "# Chọn user_id cụ thể\n",
    "user_id = 1  # Thay bằng user_id bạn muốn tạo vector"
   ]
  },
  {
   "cell_type": "code",
   "execution_count": 7,
   "metadata": {},
   "outputs": [],
   "source": [
    "# Ánh xạ đánh giá vào vector\n",
    "for _, row in ratings[ratings['user_id'] == user_id].iterrows():\n",
    "    book_id = row['book_id']\n",
    "    rating = row['rating']\n",
    "    q[book_id - 1] = rating"
   ]
  },
  {
   "cell_type": "code",
   "execution_count": 8,
   "metadata": {},
   "outputs": [],
   "source": [
    "# Lưu vector người dùng\n",
    "np.save('../.tmp/user_vector', q)"
   ]
  },
  {
   "cell_type": "code",
   "execution_count": 9,
   "metadata": {},
   "outputs": [
    {
     "name": "stdout",
     "output_type": "stream",
     "text": [
      "5.0 --> To Kill a Mockingbird\n",
      "4.0 --> Pride and Prejudice\n",
      "5.0 --> The Kite Runner\n",
      "4.0 --> 1984\n",
      "3.0 --> The Girl with the Dragon Tattoo (Millennium, #1)\n",
      "3.0 --> The Lovely Bones\n",
      "4.0 --> The Help\n",
      "4.0 --> Of Mice and Men\n",
      "4.0 --> Memoirs of a Geisha\n",
      "5.0 --> The Alchemist\n",
      "4.0 --> The Giver (The Giver, #1)\n",
      "2.0 --> The Time Traveler's Wife\n",
      "2.0 --> Eat, Pray, Love\n",
      "3.0 --> Little Women (Little Women, #1)\n",
      "4.0 --> Jane Eyre\n",
      "5.0 --> Life of Pi\n",
      "4.0 --> Water for Elephants\n",
      "3.0 --> The Book Thief\n",
      "3.0 --> The Hitchhiker's Guide to the Galaxy (Hitchhiker's Guide to the Galaxy, #1)\n",
      "3.0 --> The Secret Life of Bees\n",
      "3.0 --> The Curious Incident of the Dog in the Night-Time\n",
      "4.0 --> Gone with the Wind\n",
      "3.0 --> A Thousand Splendid Suns\n",
      "5.0 --> Ender's Game (Ender's Saga, #1)\n",
      "3.0 --> The Shining (The Shining #1)\n",
      "3.0 --> Sense and Sensibility\n",
      "5.0 --> The Glass Castle\n",
      "3.0 --> The Giving Tree\n",
      "1.0 --> One Hundred Years of Solitude\n",
      "4.0 --> The Picture of Dorian Gray\n",
      "3.0 --> The Girl Who Played with Fire (Millennium, #2)\n",
      "4.0 --> The Poisonwood Bible\n",
      "5.0 --> Where the Wild Things Are\n",
      "3.0 --> The Count of Monte Cristo\n",
      "3.0 --> Les Misérables\n",
      "3.0 --> The Memory Keeper's Daughter\n",
      "3.0 --> Middlesex\n",
      "3.0 --> The Handmaid's Tale\n",
      "5.0 --> Steve Jobs\n",
      "4.0 --> The Grapes of Wrath\n",
      "3.0 --> The Five People You Meet in Heaven\n",
      "5.0 --> Divine Secrets of the Ya-Ya Sisterhood\n",
      "2.0 --> The Scarlet Letter\n",
      "3.0 --> The Girl Who Kicked the Hornet's Nest (Millennium, #3)\n",
      "4.0 --> The Pillars of the Earth (The Kingsbridge Series, #1)\n",
      "5.0 --> All the Light We Cannot See\n",
      "3.0 --> Girl with a Pearl Earring\n",
      "3.0 --> The Red Tent\n",
      "4.0 --> The Stranger\n",
      "3.0 --> Emma\n",
      "5.0 --> Crime and Punishment\n",
      "2.0 --> Angela's Ashes (Frank McCourt, #1)\n",
      "4.0 --> The Color Purple\n",
      "3.0 --> Atonement\n",
      "3.0 --> The Art of Racing in the Rain\n",
      "4.0 --> The Chronicles of Narnia (Chronicles of Narnia, #1-7)\n",
      "4.0 --> East of Eden\n",
      "3.0 --> Sarah's Key\n",
      "4.0 --> Love in the Time of Cholera\n",
      "2.0 --> Running with Scissors\n",
      "1.0 --> Atlas Shrugged\n",
      "3.0 --> Three Cups of Tea: One Man's Mission to Promote Peace ... One School at a Time\n",
      "5.0 --> The Shadow of the Wind (The Cemetery of Forgotten Books,  #1)\n",
      "3.0 --> Big Little Lies\n",
      "3.0 --> Never Let Me Go\n",
      "3.0 --> Snow Flower and the Secret Fan\n",
      "3.0 --> The Fountainhead\n",
      "3.0 --> She's Come Undone\n",
      "3.0 --> The Unbearable Lightness of Being\n",
      "3.0 --> A Prayer for Owen Meany\n",
      "4.0 --> The Last Lecture\n",
      "3.0 --> Beloved\n",
      "3.0 --> The Namesake\n",
      "2.0 --> Bel Canto\n",
      "4.0 --> Little Bee\n",
      "5.0 --> The Paris Wife\n",
      "4.0 --> The Invention of Wings\n",
      "4.0 --> The Brothers Karamazov\n",
      "2.0 --> Speaker for the Dead (Ender's Saga, #2)\n",
      "3.0 --> The Clan of the Cave Bear (Earth's Children, #1)\n",
      "4.0 --> War and Peace\n",
      "4.0 --> World Without End (The Kingsbridge Series, #2)\n",
      "3.0 --> The History of Love\n",
      "4.0 --> The Elegance of the Hedgehog\n",
      "4.0 --> Year of Wonders\n",
      "3.0 --> Reading Lolita in Tehran\n",
      "4.0 --> People of the Book\n",
      "4.0 --> The Art of Fielding\n",
      "5.0 --> The Idiot\n",
      "4.0 --> Midnight's Children\n",
      "4.0 --> Mystic River\n",
      "4.0 --> The Forty Rules of Love\n",
      "5.0 --> My Brilliant Friend (The Neapolitan Novels #1)\n",
      "4.0 --> Unaccustomed Earth\n",
      "5.0 --> Antigone (The Theban Plays, #3)\n",
      "5.0 --> Peace Like a River\n",
      "4.0 --> Moonwalking with Einstein: The Art and Science of Remembering Everything\n",
      "5.0 --> Gilead (Gilead, #1)\n",
      "3.0 --> Stories I Only Tell My Friends\n",
      "5.0 --> The Death of Ivan Ilych\n",
      "4.0 --> A Year in Provence\n",
      "5.0 --> Caleb's Crossing\n",
      "5.0 --> The Story of a New Name (The Neapolitan Novels #2)\n",
      "3.0 --> Three Junes\n",
      "3.0 --> Balzac and the Little Chinese Seamstress\n",
      "4.0 --> A Man Without a Country\n",
      "5.0 --> Those Who Leave and Those Who Stay (The Neapolitan Novels #3)\n",
      "2.0 --> The Dante Club\n",
      "3.0 --> Housekeeping\n",
      "3.0 --> The Stone Diaries\n",
      "1.0 --> The Emperor's Children\n",
      "4.0 --> West with the Night\n",
      "3.0 --> Brunelleschi's Dome: How a Renaissance Genius Reinvented Architecture\n",
      "4.0 --> The Cat's Table\n",
      "3.0 --> The Sea\n",
      "4.0 --> Born on a Blue Day: Inside the Extraordinary Mind of an Autistic Savant\n",
      "4.0 --> Cry to Heaven\n"
     ]
    }
   ],
   "source": [
    "# In các sách mà người dùng đã đánh giá\n",
    "books = pd.read_csv('../goodbooks-10k/books.csv')\n",
    "for i in range(len(q)):\n",
    "    if q[i] != 0:\n",
    "        title = books.iloc[i]['title']\n",
    "        print(f\"{q[i]} --> {title}\")"
   ]
  }
 ],
 "metadata": {
  "kernelspec": {
   "display_name": "Python 3",
   "language": "python",
   "name": "python3"
  },
  "language_info": {
   "codemirror_mode": {
    "name": "ipython",
    "version": 3
   },
   "file_extension": ".py",
   "mimetype": "text/x-python",
   "name": "python",
   "nbconvert_exporter": "python",
   "pygments_lexer": "ipython3",
   "version": "3.12.6"
  }
 },
 "nbformat": 4,
 "nbformat_minor": 2
}
